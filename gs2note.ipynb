{
    "cells": [
        {
            "cell_type": "markdown",
            "id": "0acc6c2d-6d46-48a6-99b7-f162110584a5",
            "metadata": {
                "id": "0acc6c2d-6d46-48a6-99b7-f162110584a5"
            },
            "source": [
                "## Конвертування Google Sheets таблиці у Obsidian нотатку"
            ]
        },
        {
            "cell_type": "markdown",
            "id": "46d7fb1b-f1d7-4786-885c-c165aec9cc51",
            "metadata": {
                "id": "46d7fb1b-f1d7-4786-885c-c165aec9cc51"
            },
            "source": [
                "### Встановлення директорій"
            ]
        },
        {
            "cell_type": "code",
            "execution_count": null,
            "id": "1f897e71-acdd-41a8-a5e2-8e04ad80b576",
            "metadata": {
                "id": "1f897e71-acdd-41a8-a5e2-8e04ad80b576",
                "scrolled": true
            },
            "outputs": [],
            "source": [
                "import sys\n",
                "\n",
                "folders = {\n",
                "    'gdrive': 'D:/boa_uniteam',\n",
                "    'shdrive': '/MyDrive/OBSIDIAN/',\n",
                "    'code_dir': 'obsidian-py/',\n",
                "    'data_dir': 'NECU/'\n",
                "    }\n",
                "\n",
                "from google.colab import drive\n",
                "# Кореневі дректорії Гугл Диску\n",
                "gdrive = '/content/drive'\n",
                "# монтування Гугл Диску\n",
                "drive.mount(gdrive)\n",
                "\n",
                "# Конфігурація робочих директорій\n",
                "code_dir = gdrive + folders['shdrive'] + folders['code_dir']\n",
                "data_dir = gdrive + folders['shdrive'] + folders['data_dir']\n",
                "\n",
                "# надання доступу до фолдера коду\n",
                "sys.path.insert(0, code_dir)\n"
            ]
        },
        {
            "cell_type": "markdown",
            "source": [
                "### Зчитування Google Sheets таблиці"
            ],
            "metadata": {
                "id": "w13jnGaEVNOI"
            },
            "id": "w13jnGaEVNOI"
        },
        {
            "cell_type": "code",
            "execution_count": null,
            "id": "feeaec3d-53ed-4d5c-bd64-953124dc87cb",
            "metadata": {
                "id": "feeaec3d-53ed-4d5c-bd64-953124dc87cb"
            },
            "outputs": [],
            "source": [
                "import obsidian_util as ou\n",
                "\n",
                "# Константи алгоритму\n",
                "config_file = code_dir + 'config.yml'\n",
                "cred_file = code_dir + 'credentials.json'\n",
                "\n",
                "# Яку таблицю зчитуємо\n",
                "table = 'persons'\n",
                "# Зчитування конфігураційного словника\n",
                "conf = ou.read_yaml_config(config_file)\n",
                "# Створення URL таблиці\n",
                "table_url = ou.get_gs_table_url(conf, table)\n",
                "# Зчитування таблиці Google Sheets за її URL\n",
                "df = ou.read_gs_by_url(table_url, cred_file)\n",
                "\n",
                "print(df)"
            ]
        }
    ],
    "metadata": {
        "colab": {
            "provenance": []
        },
        "kernelspec": {
            "display_name": "venv",
            "language": "python",
            "name": "venv"
        },
        "language_info": {
            "codemirror_mode": {
                "name": "ipython",
                "version": 3
            },
            "file_extension": ".py",
            "mimetype": "text/x-python",
            "name": "python",
            "nbconvert_exporter": "python",
            "pygments_lexer": "ipython3",
            "version": "3.10.10"
        }
    },
    "nbformat": 4,
    "nbformat_minor": 5
}