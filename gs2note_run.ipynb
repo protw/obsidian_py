{
    "cells": [
        {
            "cell_type": "markdown",
            "id": "0acc6c2d-6d46-48a6-99b7-f162110584a5",
            "metadata": {
                "id": "0acc6c2d-6d46-48a6-99b7-f162110584a5"
            },
            "source": [
                "## GS2NOTE - Конвертування Google Sheets таблиці у Obsidian нотатки\n",
                "\n",
                "З докладним описом роботи, встановлення і запуску застосунку GS2NOTE можна ознайомитись на [Github](https://github.com/protw/obsidian_py/blob/master/README.md) або на [Medium](https://medium.com/p/55d4b57a92b4)."
            ]
        },
        {
            "cell_type": "code",
            "source": [
                "# @title Вхідні параметри\n",
                "\n",
                "# @markdown Оберіть Обсідіан-сховище (**vault**):\n",
                "vault = 'NECU' #@param ['NECU', 'NCP-NEB']\n",
                "\n",
                "# @markdown Оберіть тип таблиці (**table**), що буде конвертований з Гугл форми\n",
                "# @markdown до обраного сховища:\n",
                "table = 'persons' #@param ['persons', 'teams', 'orgs', 'proj']\n",
                "\n",
                "# ==== УВАГА! Цей розділ Colab комірки лише для адміна!! ====\n",
                "\n",
                "# Якщо ви не знаєте призначення налаштувань нижче, або не впевнені в тому\n",
                "# що знаєте, то нічого не чипайте\n",
                "folders = {\n",
                "    'base': '/content/drive',\n",
                "    'vaults_base': '/MyDrive/OBSIDIAN/',\n",
                "    'code_dir': 'obsidian-py/'\n",
                "}\n",
                "\n",
                "# В робочому положенні ВСІ елементи словника `cond` мають бут встановлені `True`\n",
                "cond = {\n",
                "    'is_dupl_in_vault': False, # Рекомендовано True, за замовчанням\n",
                "    'is_dupl_in_table': True,  # Рекомендовано True, за замовчанням\n",
                "    ## ---- СХОВАТИ ВІД КОРИСТУВАЧА ----\n",
                "    'not_write_dupl':   False,  # Рекомендовано True, за замовчанням\n",
                "    'is_clean_writing': False  # За замовчанням True\n",
                "}"
            ],
            "metadata": {
                "id": "IzL5taKV0cRV",
                "cellView": "form",
                "executionInfo": {
                    "status": "ok",
                    "timestamp": 1743487500678,
                    "user_tz": -180,
                    "elapsed": 24,
                    "user": {
                        "displayName": "Олег Бондаренко",
                        "userId": "16914417916602868801"
                    }
                }
            },
            "id": "IzL5taKV0cRV",
            "execution_count": 1,
            "outputs": []
        },
        {
            "cell_type": "code",
            "source": [
                "# @title Запуск конвертора\n",
                "import os\n",
                "\n",
                "!cd ~\n",
                "if not os.path.isdir('obsidian_py'):\n",
                "  !git clone --quiet https://github.com/protw/obsidian_py.git > /dev/null\n",
                "os.chdir('obsidian_py')\n",
                "\n",
                "import gs2note\n",
                "\n",
                "conv = gs2note.run(vault=vault, table=table, folders=folders, cond=cond)"
            ],
            "metadata": {
                "colab": {
                    "base_uri": "https://localhost:8080/"
                },
                "id": "CDtGCLm-Y6Hy",
                "outputId": "9633ae1b-dee2-473d-be71-7b8b876e5ce6",
                "cellView": "form"
            },
            "id": "CDtGCLm-Y6Hy",
            "execution_count": null,
            "outputs": [
                {
                    "output_type": "stream",
                    "name": "stdout",
                    "text": [
                        " GS2NOTE.PY -- Конвертор рядків таблиці Google Sheets (отриманої\n",
                        "з допомогою Google Form) у нотатки Obsidian. Налаштування і запуск ковертора\n",
                        "здійснюється двома мпособами:\n",
                        "1) з локального компа: $ python gs2note_run.py\n",
                        "2) у середовищі Google Colab: через запуск Jupyter Notebook `gs2note_run.ipynb`\n",
                        "\n",
                        "Репозитарій: https://github.com/protw/obsidian_py\n",
                        "Автор: https://protw.github.io/oleghbond\n",
                        "Версія: 0.2 / Дата: 2025-03-29 / Ліцензія: GPL\n",
                        "\n"
                    ]
                }
            ]
        }
    ],
    "metadata": {
        "colab": {
            "provenance": []
        },
        "kernelspec": {
            "display_name": "venv",
            "language": "python",
            "name": "venv"
        },
        "language_info": {
            "codemirror_mode": {
                "name": "ipython",
                "version": 3
            },
            "file_extension": ".py",
            "mimetype": "text/x-python",
            "name": "python",
            "nbconvert_exporter": "python",
            "pygments_lexer": "ipython3",
            "version": "3.10.10"
        }
    },
    "nbformat": 4,
    "nbformat_minor": 5
}